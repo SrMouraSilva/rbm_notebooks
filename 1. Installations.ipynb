{
 "cells": [
  {
   "cell_type": "code",
   "execution_count": 7,
   "metadata": {
    "scrolled": false
   },
   "outputs": [
    {
     "name": "stdout",
     "output_type": "stream",
     "text": [
      "Requirement already satisfied: tensorflow==2.0.0-alpha0 in ./venv/lib/python3.6/site-packages\n",
      "Requirement already satisfied: keras-preprocessing>=1.0.5 in ./venv/lib/python3.6/site-packages (from tensorflow==2.0.0-alpha0)\n",
      "Requirement already satisfied: tf-estimator-nightly<1.14.0.dev2019030116,>=1.14.0.dev2019030115 in ./venv/lib/python3.6/site-packages (from tensorflow==2.0.0-alpha0)\n",
      "Requirement already satisfied: numpy<2.0,>=1.14.5 in ./venv/lib/python3.6/site-packages (from tensorflow==2.0.0-alpha0)\n",
      "Requirement already satisfied: wheel>=0.26 in ./venv/lib/python3.6/site-packages (from tensorflow==2.0.0-alpha0)\n",
      "Requirement already satisfied: astor>=0.6.0 in ./venv/lib/python3.6/site-packages (from tensorflow==2.0.0-alpha0)\n",
      "Requirement already satisfied: gast>=0.2.0 in ./venv/lib/python3.6/site-packages (from tensorflow==2.0.0-alpha0)\n",
      "Requirement already satisfied: protobuf>=3.6.1 in ./venv/lib/python3.6/site-packages (from tensorflow==2.0.0-alpha0)\n",
      "Requirement already satisfied: absl-py>=0.7.0 in ./venv/lib/python3.6/site-packages (from tensorflow==2.0.0-alpha0)\n",
      "Requirement already satisfied: termcolor>=1.1.0 in ./venv/lib/python3.6/site-packages (from tensorflow==2.0.0-alpha0)\n",
      "Requirement already satisfied: grpcio>=1.8.6 in ./venv/lib/python3.6/site-packages (from tensorflow==2.0.0-alpha0)\n",
      "Requirement already satisfied: google-pasta>=0.1.2 in ./venv/lib/python3.6/site-packages (from tensorflow==2.0.0-alpha0)\n",
      "Requirement already satisfied: six>=1.10.0 in ./venv/lib/python3.6/site-packages (from tensorflow==2.0.0-alpha0)\n",
      "Requirement already satisfied: keras-applications>=1.0.6 in ./venv/lib/python3.6/site-packages (from tensorflow==2.0.0-alpha0)\n",
      "Requirement already satisfied: tb-nightly<1.14.0a20190302,>=1.14.0a20190301 in ./venv/lib/python3.6/site-packages (from tensorflow==2.0.0-alpha0)\n",
      "Requirement already satisfied: setuptools in ./venv/lib/python3.6/site-packages (from protobuf>=3.6.1->tensorflow==2.0.0-alpha0)\n",
      "Requirement already satisfied: h5py in ./venv/lib/python3.6/site-packages (from keras-applications>=1.0.6->tensorflow==2.0.0-alpha0)\n",
      "Requirement already satisfied: werkzeug>=0.11.15 in ./venv/lib/python3.6/site-packages (from tb-nightly<1.14.0a20190302,>=1.14.0a20190301->tensorflow==2.0.0-alpha0)\n",
      "Requirement already satisfied: markdown>=2.6.8 in ./venv/lib/python3.6/site-packages (from tb-nightly<1.14.0a20190302,>=1.14.0a20190301->tensorflow==2.0.0-alpha0)\n",
      "Collecting tfp-nightly\n",
      "  Downloading https://files.pythonhosted.org/packages/d5/39/b8acb39ea863975a9953d62e9a6ef4c84643b43ad95f1304ea865d9fa030/tfp_nightly-0.7.0.dev20190308-py2.py3-none-any.whl (865kB)\n",
      "\u001b[K    100% |████████████████████████████████| 870kB 1.1MB/s ta 0:00:01\n",
      "\u001b[?25hRequirement already satisfied: six>=1.10.0 in ./venv/lib/python3.6/site-packages (from tfp-nightly)\n",
      "Requirement already satisfied: numpy>=1.13.3 in ./venv/lib/python3.6/site-packages (from tfp-nightly)\n",
      "Installing collected packages: tfp-nightly\n",
      "Successfully installed tfp-nightly-0.7.0.dev20190308\n",
      "Requirement already satisfied: tensorflow_datasets in ./venv/lib/python3.6/site-packages\n",
      "Requirement already satisfied: tensorflow-metadata in ./venv/lib/python3.6/site-packages (from tensorflow_datasets)\n",
      "Requirement already satisfied: requests in ./venv/lib/python3.6/site-packages (from tensorflow_datasets)\n",
      "Requirement already satisfied: promise in ./venv/lib/python3.6/site-packages (from tensorflow_datasets)\n",
      "Requirement already satisfied: absl-py in ./venv/lib/python3.6/site-packages (from tensorflow_datasets)\n",
      "Requirement already satisfied: termcolor in ./venv/lib/python3.6/site-packages (from tensorflow_datasets)\n",
      "Requirement already satisfied: wrapt in ./venv/lib/python3.6/site-packages (from tensorflow_datasets)\n",
      "Requirement already satisfied: protobuf>=3.6.1 in ./venv/lib/python3.6/site-packages (from tensorflow_datasets)\n",
      "Requirement already satisfied: future in ./venv/lib/python3.6/site-packages (from tensorflow_datasets)\n",
      "Requirement already satisfied: six in ./venv/lib/python3.6/site-packages (from tensorflow_datasets)\n",
      "Requirement already satisfied: tqdm in ./venv/lib/python3.6/site-packages (from tensorflow_datasets)\n",
      "Requirement already satisfied: googleapis-common-protos in ./venv/lib/python3.6/site-packages (from tensorflow-metadata->tensorflow_datasets)\n",
      "Requirement already satisfied: chardet<3.1.0,>=3.0.2 in ./venv/lib/python3.6/site-packages (from requests->tensorflow_datasets)\n",
      "Requirement already satisfied: urllib3<1.25,>=1.21.1 in ./venv/lib/python3.6/site-packages (from requests->tensorflow_datasets)\n",
      "Requirement already satisfied: certifi>=2017.4.17 in ./venv/lib/python3.6/site-packages (from requests->tensorflow_datasets)\n",
      "Requirement already satisfied: idna<2.9,>=2.5 in ./venv/lib/python3.6/site-packages (from requests->tensorflow_datasets)\n",
      "Requirement already satisfied: setuptools in ./venv/lib/python3.6/site-packages (from protobuf>=3.6.1->tensorflow_datasets)\n"
     ]
    }
   ],
   "source": [
    "!pip install tensorflow==2.0.0-alpha0\n",
    "#!pip install tensorflow_probability\n",
    "!pip install tfp-nightly\n",
    "!pip install tensorflow_datasets"
   ]
  }
 ],
 "metadata": {
  "kernelspec": {
   "display_name": "Python 3",
   "language": "python",
   "name": "python3"
  },
  "language_info": {
   "codemirror_mode": {
    "name": "ipython",
    "version": 3
   },
   "file_extension": ".py",
   "mimetype": "text/x-python",
   "name": "python",
   "nbconvert_exporter": "python",
   "pygments_lexer": "ipython3",
   "version": "3.6.7"
  }
 },
 "nbformat": 4,
 "nbformat_minor": 2
}
