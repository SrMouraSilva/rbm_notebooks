{
 "cells": [
  {
   "cell_type": "markdown",
   "metadata": {},
   "source": [
    "# RBM in Tensorflow 2.0\n",
    "\n",
    "## Import tensorflow"
   ]
  },
  {
   "cell_type": "code",
   "execution_count": 1,
   "metadata": {},
   "outputs": [],
   "source": [
    "import tensorflow as tf\n",
    "import tensorflow_probability as tfp"
   ]
  },
  {
   "cell_type": "markdown",
   "metadata": {},
   "source": [
    "## Load dataset"
   ]
  },
  {
   "cell_type": "code",
   "execution_count": 40,
   "metadata": {
    "scrolled": false
   },
   "outputs": [],
   "source": [
    "import tensorflow_datasets as tfds\n",
    "\n",
    "# Load dataset\n",
    "dataset, info = tfds.load(name=\"mnist\", split=tfds.Split.TRAIN, with_info=True)\n",
    "\n",
    "# Build your input pipeline\n",
    "dataset = dataset.shuffle(1024).batch(32).prefetch(tf.data.experimental.AUTOTUNE)"
   ]
  },
  {
   "cell_type": "markdown",
   "metadata": {},
   "source": [
    "## Define cool functions alias\n",
    "\n",
    "* $\\sigma$ as sigmoid\n",
    "* $X \\sim Bernouli(k;p) = p^{k}(1-p)^{1-k} \\text{ for } k \\in \\{0,1\\}$"
   ]
  },
  {
   "cell_type": "code",
   "execution_count": 24,
   "metadata": {},
   "outputs": [],
   "source": [
    "σ = tf.sigmoid\n",
    "bernoulli_sample = lambda p, samples=(): tfp.distributions.Bernoulli(probs=p).sample(samples).cast(tf.float32)\n",
    "mean = tf.math.reduce_mean\n",
    "\n",
    "tf.Tensor.T = property(lambda self: tf.transpose(self))\n",
    "tf.Variable.T = property(lambda self: tf.transpose(self))\n",
    "#tf.Variable.__setitem__ = lambda self, x, y: self[x].assign(y)\n",
    "tf.Tensor.reshape = lambda self, shape: tf.reshape(self, shape=shape)\n",
    "tf.Tensor.cast = lambda self, dtype: tf.cast(self, dtype=dtype)\n",
    "tf.Tensor.to_vector = lambda self: self.reshape(shape=(-1, 1))"
   ]
  },
  {
   "cell_type": "markdown",
   "metadata": {},
   "source": [
    "## Define model parameters\n",
    "\n",
    "The vectors are _column vectors_"
   ]
  },
  {
   "cell_type": "code",
   "execution_count": 16,
   "metadata": {},
   "outputs": [],
   "source": [
    "image_shape = info.features['image'].shape\n",
    "\n",
    "hidden_size = 100\n",
    "visible_size = image_shape[0]*image_shape[1]\n",
    "\n",
    "learning_rate = 0.1\n",
    "momentum = 0\n",
    "regularization = 0\n",
    "\n",
    "W = tf.Variable(name='W', initial_value=0.01 * tf.random.normal([hidden_size, visible_size]), dtype=tf.float32)\n",
    "b_h = tf.Variable(name='b_h', dtype=tf.float32, initial_value=tf.zeros([hidden_size, 1]))\n",
    "b_v = tf.Variable(name='b_v', dtype=tf.float32, initial_value=tf.zeros([visible_size, 1]))"
   ]
  },
  {
   "cell_type": "markdown",
   "metadata": {},
   "source": [
    "## Energy function\n",
    "\n",
    "$$E(\\boldsymbol{v}, \\boldsymbol{h}) = - \\boldsymbol{h}^T\\boldsymbol{W}\\boldsymbol{v} - \\boldsymbol{v}^T\\boldsymbol{b}^v - \\boldsymbol{h}^T\\boldsymbol{b}^h$$"
   ]
  },
  {
   "cell_type": "code",
   "execution_count": 5,
   "metadata": {},
   "outputs": [],
   "source": [
    "def E(self, v, h):\n",
    "    return - (h.T @ self.W @ v) - (v.T @ self.b_v) - (h.T @ self.b_h)"
   ]
  },
  {
   "cell_type": "markdown",
   "metadata": {},
   "source": [
    "## Conditional probabilities\n",
    "\n",
    "* $P(h_i = 1|\\boldsymbol{v}) = \\sigma(\\boldsymbol{W}_{i \\cdot} \\boldsymbol{v} + b^h_i)$\n",
    "* $P(v_j=1|\\boldsymbol{h}) = \\sigma(\\boldsymbol{h}^T \\boldsymbol{W}_{\\cdot j} + b^v_j)$"
   ]
  },
  {
   "cell_type": "code",
   "execution_count": 17,
   "metadata": {},
   "outputs": [],
   "source": [
    "def P_h_given_v(v):\n",
    "    return σ(W @ v + b_h)\n",
    "\n",
    "def P_v_given_h(h):\n",
    "    return σ(h.T @ W + b_v.T).T"
   ]
  },
  {
   "cell_type": "markdown",
   "metadata": {},
   "source": [
    "## Sampling\n",
    "\n",
    "* $\\boldsymbol{p}_h \\sim P(h_i = 1|\\boldsymbol{v})$\n",
    "* $\\boldsymbol{p}_v \\sim P(v_j=1|\\boldsymbol{h})$"
   ]
  },
  {
   "cell_type": "markdown",
   "metadata": {},
   "source": [
    "## Learning"
   ]
  },
  {
   "cell_type": "code",
   "execution_count": 48,
   "metadata": {
    "scrolled": true
   },
   "outputs": [],
   "source": [
    "def format_image(image):\n",
    "    image = image.reshape((-1, visible_size)).T  # To vector format compatible with rbm visible label\n",
    "    image = image / 255                          # normalization\n",
    "    image = (image > 0.5).cast(tf.float32)       # binarization\n",
    "    \n",
    "    return image\n",
    "\n",
    "for features in dataset.take(1):\n",
    "    image, label = features[\"image\"], features[\"label\"]\n",
    "    break\n",
    "\n",
    "v0 = format_image(image)\n",
    "\n",
    "η = learning_rate\n",
    "α = momentum\n",
    "λ = regularization\n",
    "\n",
    "\n",
    "with tf.name_scope('gibbs_chain'):\n",
    "    P_h0_given_v0 = P_h_given_v(v0)\n",
    "    h0 = bernoulli_sample(p=P_h0_given_v0)\n",
    "\n",
    "    P_v1_given_h0 = P_v_given_h(h0)\n",
    "    v1 = bernoulli_sample(p=P_v1_given_h0)\n",
    "\n",
    "    P_h1_given_v1 = P_h_given_v(v1)\n",
    "    h1 = bernoulli_sample(p=P_h1_given_v1)\n",
    "\n",
    "with tf.name_scope('delta_W'):\n",
    "    ΔW = η * (P_h0_given_v0 @ v0.T - P_h1_given_v1 @ v1.T)# - λ*W + α*ΔW\n",
    "\n",
    "with tf.name_scope('delta_v_b'):\n",
    "    Δb_v = η * mean(v0 - v1, axis=1).to_vector()# + α*Δb_v\n",
    "\n",
    "with tf.name_scope('delta_h_b'):\n",
    "    Δb_h = η * mean(P_h0_given_v0 - P_h1_given_v1, axis=1).to_vector()# + α*Δb_h\n",
    "\n",
    "\n",
    "#self.ΔW = self.ΔW.assign(ΔW)\n",
    "#self.Δb_v = self.Δb_v.assign(Δb_v)\n",
    "#self.Δb_h = self.Δb_h.assign(Δb_h)\n",
    "\n",
    "#W_update = self.W.assign(self.W + self.ΔW)\n",
    "#b_v_update = self.b_v.assign(self.b_v + self.Δb_v)\n",
    "#b_h_update = self.b_h.assign(self.b_h + self.Δb_h)"
   ]
  }
 ],
 "metadata": {
  "kernelspec": {
   "display_name": "Python 3",
   "language": "python",
   "name": "python3"
  },
  "language_info": {
   "codemirror_mode": {
    "name": "ipython",
    "version": 3
   },
   "file_extension": ".py",
   "mimetype": "text/x-python",
   "name": "python",
   "nbconvert_exporter": "python",
   "pygments_lexer": "ipython3",
   "version": "3.6.7"
  }
 },
 "nbformat": 4,
 "nbformat_minor": 2
}
